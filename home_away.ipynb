{
 "cells": [
  {
   "cell_type": "code",
   "execution_count": 2,
   "metadata": {},
   "outputs": [],
   "source": [
    "import requests\n",
    "from bs4 import BeautifulSoup\n",
    "\n",
    "import numpy as np\n",
    "import matplotlib.pyplot as plt"
   ]
  },
  {
   "cell_type": "code",
   "execution_count": 18,
   "metadata": {},
   "outputs": [],
   "source": [
    "'''\n",
    "input: year integer\n",
    "output: two floats, home win percentage and away win percentage\n",
    "'''\n",
    "def grab_wins(year):\n",
    "    url = \"https://www.nfl.com/standings/league/\" + str(year) + \"/reg/\"\n",
    "    page = requests.get(url)\n",
    "\n",
    "    soup = BeautifulSoup(page.content, 'html.parser')\n",
    "\n",
    "    # print(soup)\n",
    "    rows = soup.find_all('tr')\n",
    "\n",
    "    # home = []\n",
    "    # road = []\n",
    "\n",
    "    home_wins_total = 0\n",
    "    home_losses_total = 0\n",
    "\n",
    "    away_wins_total = 0\n",
    "    away_losses_total = 0\n",
    "\n",
    "    for row in rows[1:]:\n",
    "        each_columm = row.find_all('td')\n",
    "\n",
    "        home_string = each_columm[8].string.replace(\" \", \"\").replace(\"\\n\", \"\")\n",
    "        away_string = each_columm[9].string.replace(\" \", \"\").replace(\"\\n\", \"\")\n",
    "\n",
    "        home_score = home_string.split(\"-\")\n",
    "        home_wins = home_score[0]\n",
    "        home_losses = home_score[1]\n",
    "\n",
    "        # update totals\n",
    "        home_wins_total += int(home_wins)\n",
    "        home_losses_total += int(home_losses)\n",
    "\n",
    "        away_score = away_string.split(\"-\")\n",
    "        away_wins = away_score[0]\n",
    "        away_losses = away_score[1]\n",
    "\n",
    "        # update totals\n",
    "        away_wins_total += int(away_wins)\n",
    "        away_losses_total += int(away_losses)\n",
    "\n",
    "        # home.append(home_string)\n",
    "        # road.append(away_string)\n",
    "\n",
    "    home_win_percentage = home_wins_total / (home_wins_total + home_losses_total)\n",
    "    away_win_percentage = away_wins_total / (away_wins_total + away_losses_total)\n",
    "    return home_win_percentage, away_win_percentage"
   ]
  },
  {
   "cell_type": "code",
   "execution_count": 19,
   "metadata": {},
   "outputs": [
    {
     "name": "stdout",
     "output_type": "stream",
     "text": [
      "1970 (0.5838150289017341, 0.4161849710982659)\n",
      "1971 (0.5747126436781609, 0.42528735632183906)\n",
      "1972 (0.5084745762711864, 0.4915254237288136)\n",
      "1973 (0.6228571428571429, 0.37714285714285717)\n",
      "1974 (0.5469613259668509, 0.4530386740331492)\n",
      "1975 (0.554945054945055, 0.44505494505494503)\n",
      "1976 (0.5743589743589743, 0.4256410256410256)\n",
      "1977 (0.576530612244898, 0.42346938775510207)\n",
      "1978 (0.5829596412556054, 0.4170403587443946)\n",
      "1979 (0.5892857142857143, 0.4107142857142857)\n",
      "1980 (0.547085201793722, 0.452914798206278)\n",
      "1981 (0.6233183856502242, 0.37668161434977576)\n",
      "1982 (0.544, 0.456)\n",
      "1983 (0.5336322869955157, 0.4663677130044843)\n",
      "1984 (0.57847533632287, 0.42152466367713004)\n",
      "1985 (0.6428571428571429, 0.35714285714285715)\n",
      "1986 (0.5315315315315315, 0.46846846846846846)\n",
      "1987 (0.5454545454545454, 0.45454545454545453)\n",
      "1988 (0.5874439461883408, 0.4125560538116592)\n",
      "1989 (0.5739910313901345, 0.4260089686098655)\n",
      "1990 (0.5848214285714286, 0.41517857142857145)\n",
      "1991 (0.5892857142857143, 0.4107142857142857)\n",
      "1992 (0.6071428571428571, 0.39285714285714285)\n",
      "1993 (0.5491071428571429, 0.45089285714285715)\n",
      "1994 (0.5714285714285714, 0.42857142857142855)\n",
      "1995 (0.6, 0.4)\n",
      "1996 (0.6208333333333333, 0.37916666666666665)\n",
      "1997 (0.6092436974789915, 0.3907563025210084)\n",
      "1998 (0.6291666666666667, 0.37083333333333335)\n",
      "1999 (0.5967741935483871, 0.4032258064516129)\n",
      "2000 (0.5564516129032258, 0.4435483870967742)\n",
      "2001 (0.5483870967741935, 0.45161290322580644)\n",
      "2002 (0.5803921568627451, 0.4196078431372549)\n",
      "2003 (0.61328125, 0.38671875)\n",
      "2004 (0.56640625, 0.43359375)\n",
      "2005 (0.58984375, 0.41015625)\n",
      "2006 (0.53125, 0.46875)\n",
      "2007 (0.57421875, 0.42578125)\n",
      "2008 (0.5725490196078431, 0.42745098039215684)\n",
      "2009 (0.5703125, 0.4296875)\n",
      "2010 (0.55859375, 0.44140625)\n",
      "2011 (0.56640625, 0.43359375)\n",
      "2012 (0.5725490196078431, 0.42745098039215684)\n",
      "2013 (0.6, 0.4)\n",
      "2014 (0.5686274509803921, 0.43137254901960786)\n",
      "2015 (0.5390625, 0.4609375)\n",
      "2016 (0.5787401574803149, 0.421259842519685)\n",
      "2017 (0.56640625, 0.43359375)\n",
      "2018 (0.6023622047244095, 0.39763779527559057)\n",
      "2019 (0.5176470588235295, 0.4823529411764706)\n",
      "2020 (0.4980392156862745, 0.5019607843137255)\n"
     ]
    }
   ],
   "source": [
    "win_percent_total = 0\n",
    "lose_percent_total = 0\n",
    "total_count = 0\n",
    "\n",
    "win_losses = {}\n",
    "\n",
    "for year in range(1970, 2021):\n",
    "    print(year, grab_wins(year))\n",
    "    win_losses[year] = grab_wins(year)\n",
    "    \n",
    "    result = grab_wins(year)\n",
    "    win_percent_total += result[0]\n",
    "    lose_percent_total += result[1]\n",
    "    total_count += 1\n",
    "\n",
    "# print(\"WIN PERCENT AVG\", win_percent_total/total_count)\n",
    "# print(\"LOSE PERCENT AVG\", lose_percent_total/total_count)"
   ]
  },
  {
   "cell_type": "code",
   "execution_count": 20,
   "metadata": {
    "scrolled": false
   },
   "outputs": [
    {
     "data": {
      "image/png": "[encoded data removed]",
      "text/plain": [
       "<Figure size 432x288 with 1 Axes>"
      ]
     },
     "metadata": {
      "needs_background": "light"
     },
     "output_type": "display_data"
    }
   ],
   "source": [
    "x = [i for i in win_losses.keys()]\n",
    "home_y = [s[0] for s in win_losses.values()]\n",
    "away_y = [s[1] for s in win_losses.values()]\n",
    "\n",
    "plt.scatter(x, home_y, c='b', marker=\"s\", label='home')\n",
    "plt.scatter(x, away_y, c='r', marker=\"o\", label='away')\n",
    "plt.title(\"NFL Home vs Away Scatterplot\")\n",
    "plt.legend(loc='upper left')\n",
    "plt.savefig(\"Scatter Plot Home Away.png\")\n",
    "plt.show()\n"
   ]
  },
  {
   "cell_type": "code",
   "execution_count": 21,
   "metadata": {},
   "outputs": [
    {
     "data": {
      "image/png": "[encoded data removed]",
      "text/plain": [
       "<Figure size 432x288 with 1 Axes>"
      ]
     },
     "metadata": {
      "needs_background": "light"
     },
     "output_type": "display_data"
    }
   ],
   "source": [
    "plt.barh(x[-20:],home_y[-20:],color=\"g\",label='home')\n",
    "plt.barh(x[-20:],away_y[-20:],color=\"r\",label='away')\n",
    "plt.title(\"NFL Home vs Away Bar Graph\")\n",
    "plt.savefig(\"Bar Graph Home Away.png\")\n",
    "plt.show()"
   ]
  },
  {
   "cell_type": "code",
   "execution_count": 15,
   "metadata": {},
   "outputs": [],
   "source": [
    "def grab_wins_basketball(year):\n",
    "    url = \"https://www.espn.com/nba/standings/_/season/\"+ str(year)\n",
    "    page = requests.get(url)\n",
    "\n",
    "    soup = BeautifulSoup(page.content, 'html.parser')\n",
    "\n",
    "    # print(soup)\n",
    "    rows = soup.find_all('tr')\n",
    "    # print(rows)\n",
    "\n",
    "    relevant_rows = []\n",
    "\n",
    "    values = []\n",
    "\n",
    "    for row in rows:\n",
    "        each_column = row.find_all('td')\n",
    "        if len(each_column) > 1:\n",
    "            information = []\n",
    "            for item in each_column:\n",
    "                information.append(item.string)\n",
    "            values.append(information)\n",
    "    \n",
    "    home_wins_total = 0\n",
    "    home_losses_total = 0\n",
    "\n",
    "    away_wins_total = 0\n",
    "    away_losses_total = 0\n",
    "    \n",
    "    \n",
    "    for row in values:\n",
    "        home_list = row[4].split(\"-\")\n",
    "        away_list = row[5].split(\"-\")\n",
    "        \n",
    "        home_wins_total += int(home_list[0])\n",
    "        home_losses_total += int(home_list[1])\n",
    "        away_wins_total += int(away_list[0])\n",
    "        away_losses_total += int(away_list[1])\n",
    "    \n",
    "    home_win_percentage = home_wins_total / (home_wins_total + home_losses_total)\n",
    "    away_win_percentage = away_wins_total / (away_wins_total + away_losses_total)\n",
    "    return home_win_percentage, away_win_percentage"
   ]
  },
  {
   "cell_type": "code",
   "execution_count": 5,
   "metadata": {},
   "outputs": [
    {
     "data": {
      "text/plain": [
       "(0.611879576891782, 0.38812042310821804)"
      ]
     },
     "execution_count": 5,
     "metadata": {},
     "output_type": "execute_result"
    }
   ],
   "source": [
    "grab_wins_basketball(2013)"
   ]
  },
  {
   "cell_type": "code",
   "execution_count": 6,
   "metadata": {},
   "outputs": [
    {
     "name": "stdout",
     "output_type": "stream",
     "text": [
      "2003 (0.6282590412111018, 0.37174095878889823)\n",
      "2004 (0.6139613120269134, 0.3860386879730866)\n",
      "2005 (0.6048780487804878, 0.3951219512195122)\n",
      "2006 (0.6032520325203252, 0.3967479674796748)\n",
      "2007 (0.5910569105691057, 0.4089430894308943)\n",
      "2008 (0.6008130081300813, 0.3991869918699187)\n",
      "2009 (0.608130081300813, 0.39186991869918697)\n",
      "2010 (0.5943089430894309, 0.4056910569105691)\n",
      "2011 (0.6040650406504066, 0.3959349593495935)\n",
      "2012 (0.5858585858585859, 0.41414141414141414)\n",
      "2013 (0.611879576891782, 0.38812042310821804)\n",
      "2014 (0.5804878048780487, 0.4195121951219512)\n",
      "2015 (0.5747967479674797, 0.42520325203252035)\n",
      "2016 (0.5886178861788618, 0.4113821138211382)\n",
      "2017 (0.583739837398374, 0.416260162601626)\n",
      "2018 (0.5788617886178862, 0.4211382113821138)\n",
      "2019 (0.5926829268292683, 0.4073170731707317)\n",
      "2020 (0.5514636449480642, 0.4485363550519358)\n"
     ]
    }
   ],
   "source": [
    "# b says that its a varaible for basketball\n",
    "win_percent_totalb = 0\n",
    "lose_percent_totalb = 0\n",
    "total_countb = 0\n",
    "\n",
    "win_lossesb = {}\n",
    "\n",
    "for year in range(2003, 2021):\n",
    "    print(year, grab_wins_basketball(year))\n",
    "    win_lossesb[year] = grab_wins_basketball(year)\n",
    "    \n",
    "    result = grab_wins_basketball(year)\n",
    "    win_percent_totalb += result[0]\n",
    "    lose_percent_totalb += result[1]\n",
    "    total_countb += 1\n"
   ]
  },
  {
   "cell_type": "code",
   "execution_count": 7,
   "metadata": {},
   "outputs": [
    {
     "name": "stdout",
     "output_type": "stream",
     "text": [
      "WIN PERCENT AVG 0.5942840676581675\n",
      "LOSE PERCENT AVG 0.40571593234183245\n"
     ]
    }
   ],
   "source": [
    "print(\"WIN PERCENT AVG\", win_percent_totalb/total_countb)\n",
    "print(\"LOSE PERCENT AVG\", lose_percent_totalb/total_countb)"
   ]
  },
  {
   "cell_type": "code",
   "execution_count": 14,
   "metadata": {},
   "outputs": [
    {
     "data": {
      "image/png": "[encoded data removed]",
      "text/plain": [
       "<Figure size 432x288 with 1 Axes>"
      ]
     },
     "metadata": {
      "needs_background": "light"
     },
     "output_type": "display_data"
    }
   ],
   "source": [
    "xb = [i for i in win_lossesb.keys()]\n",
    "home_yb = [s[0] for s in win_lossesb.values()]\n",
    "away_yb = [s[1] for s in win_lossesb.values()]\n",
    "plt.title(\"NBA Home vs Away Scatterplot\")\n",
    "plt.scatter(xb, home_yb, c='b', marker=\"s\", label='home')\n",
    "plt.scatter(xb, away_yb, c='r', marker=\"o\", label='away')\n",
    "plt.legend(loc='upper left')\n",
    "plt.savefig(\"Scatter Plot Home Away Basketball.png\")\n",
    "plt.show()\n"
   ]
  },
  {
   "cell_type": "code",
   "execution_count": 9,
   "metadata": {},
   "outputs": [
    {
     "name": "stdout",
     "output_type": "stream",
     "text": [
      "{2003: (0.6282590412111018, 0.37174095878889823), 2004: (0.6139613120269134, 0.3860386879730866), 2005: (0.6048780487804878, 0.3951219512195122), 2006: (0.6032520325203252, 0.3967479674796748), 2007: (0.5910569105691057, 0.4089430894308943), 2008: (0.6008130081300813, 0.3991869918699187), 2009: (0.608130081300813, 0.39186991869918697), 2010: (0.5943089430894309, 0.4056910569105691), 2011: (0.6040650406504066, 0.3959349593495935), 2012: (0.5858585858585859, 0.41414141414141414), 2013: (0.611879576891782, 0.38812042310821804), 2014: (0.5804878048780487, 0.4195121951219512), 2015: (0.5747967479674797, 0.42520325203252035), 2016: (0.5886178861788618, 0.4113821138211382), 2017: (0.583739837398374, 0.416260162601626), 2018: (0.5788617886178862, 0.4211382113821138), 2019: (0.5926829268292683, 0.4073170731707317), 2020: (0.5514636449480642, 0.4485363550519358)}\n"
     ]
    }
   ],
   "source": [
    "print(win_lossesb)"
   ]
  },
  {
   "cell_type": "code",
   "execution_count": 13,
   "metadata": {},
   "outputs": [
    {
     "data": {
      "image/png": "[encoded data removed]",
      "text/plain": [
       "<Figure size 432x288 with 1 Axes>"
      ]
     },
     "metadata": {
      "needs_background": "light"
     },
     "output_type": "display_data"
    }
   ],
   "source": [
    "plt.barh(xb[-20:],home_yb[-20:],color=\"g\",label='home')\n",
    "plt.title(\"NBA Home vs Away Bar Graph\")\n",
    "plt.barh(xb[-20:],away_yb[-20:],color=\"r\",label='away')\n",
    "\n",
    "plt.savefig(\"Bar Graph Home Away NBA.png\")\n",
    "plt.show()"
   ]
  },
  {
   "cell_type": "code",
   "execution_count": null,
   "metadata": {},
   "outputs": [],
   "source": [
    "home_percent_totalb = 0\n",
    "away_percent_totalb = 0\n",
    "for year in win_lossesb:\n",
    "    "
   ]
  }
 ],
 "metadata": {
  "kernelspec": {
   "display_name": "Python 3",
   "language": "python",
   "name": "python3"
  },
  "language_info": {
   "codemirror_mode": {
    "name": "ipython",
    "version": 3
   },
   "file_extension": ".py",
   "mimetype": "text/x-python",
   "name": "python",
   "nbconvert_exporter": "python",
   "pygments_lexer": "ipython3",
   "version": "3.9.1"
  }
 },
 "nbformat": 4,
 "nbformat_minor": 2
}
